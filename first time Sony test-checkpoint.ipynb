{
 "cells": [
  {
   "cell_type": "code",
   "execution_count": 3,
   "id": "0ac03ac3-caf1-469c-81a8-258c9015667f",
   "metadata": {},
   "outputs": [
    {
     "name": "stdout",
     "output_type": "stream",
     "text": [
      "Dowloading Sony Model (84Mb)\n",
      "Dowloading Fuji Model (84Mb)\n"
     ]
    }
   ],
   "source": [
    "# -i run the file in IPython’s namespace instead of an empty one\n",
    "%run -i \"download_models.py\""
   ]
  },
  {
   "cell_type": "code",
   "execution_count": null,
   "id": "b65b8f25-0271-46ee-a4dd-5808b1a50663",
   "metadata": {},
   "outputs": [],
   "source": []
  }
 ],
 "metadata": {
  "kernelspec": {
   "display_name": "Python 3 (ipykernel)",
   "language": "python",
   "name": "python3"
  },
  "language_info": {
   "codemirror_mode": {
    "name": "ipython",
    "version": 3
   },
   "file_extension": ".py",
   "mimetype": "text/x-python",
   "name": "python",
   "nbconvert_exporter": "python",
   "pygments_lexer": "ipython3",
   "version": "3.9.12"
  }
 },
 "nbformat": 4,
 "nbformat_minor": 5
}
